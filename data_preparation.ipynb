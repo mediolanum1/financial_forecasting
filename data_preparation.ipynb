{
 "cells": [
  {
   "cell_type": "code",
   "execution_count": null,
   "id": "a1ceeb03",
   "metadata": {},
   "outputs": [],
   "source": [
    "import requests\n",
    "import pandas as pd\n",
    "from datetime import datetime\n"
   ]
  },
  {
   "cell_type": "code",
   "execution_count": null,
   "id": "a79b695e",
   "metadata": {},
   "outputs": [],
   "source": [
    "\n",
    "# downloading news from CNBC web site\n",
    "\n",
    "# key word that news should include\n",
    "querry_word = \"apple\"\n",
    "\n",
    "params = {\n",
    "    \"queryly_key\": \"31a35d40a9a64ab3\",\n",
    "    \"query\": querry_word,\n",
    "    \"endindex\": \"0\",\n",
    "    \"batchsize\": \"100\",\n",
    "    \"callback\": \"\",\n",
    "    \"showfaceted\": \"true\",\n",
    "    \"timezoneoffset\": \"-120\",\n",
    "    \"facetedfields\": \"formats\",\n",
    "    \"facetedkey\": \"formats|\",\n",
    "    \"facetedvalue\":\n",
    "    \"!Press Release|\",\n",
    "    \"needtoptickers\": \"1\",\n",
    "    \"additionalindexes\": \"4cd6f71fbf22424d,937d600b0d0d4e23,3bfbe40caee7443e,626fdfcd96444f28\"\n",
    "}\n",
    "\n",
    "# parts of news article that will be included, in our project we use only Title and Publication Date but Description is also \n",
    "# present as we can train model on description of articles\n",
    "goal = [\"cn:title\", \"_pubDate\", \"description\"]\n",
    "\n",
    "\n",
    "def main(url):\n",
    "    with requests.Session() as req:\n",
    "        allin = []\n",
    "        for page, item in enumerate(range(5000, 20000, 100)):  # to get more or less news change range\n",
    "                                                          # later news in the begging and old news are in the end\n",
    "            print(f\"Extracting Page# {page +1}\")\n",
    "            params[\"endindex\"] = item\n",
    "            r = req.get(url, params=params).json()\n",
    "            for loop in r['results']:\n",
    "                allin.append([loop[x] for x in goal])\n",
    "        new = pd.DataFrame(\n",
    "            allin, columns=[\"Title\", \"date\", \"Description\"])\n",
    "        new.to_csv(\"/datasets/data.csv\", index=False)\n",
    "\n",
    "\n",
    "main(\"https://api.queryly.com/cnbc/json.aspx\")"
   ]
  },
  {
   "cell_type": "code",
   "execution_count": null,
   "id": "019abdd4",
   "metadata": {},
   "outputs": [],
   "source": [
    "\n",
    "# combining the news articles data and AAPL stock's data \n",
    "\n",
    "# AAPL.csv is downloaded from Kaggle dataset about the Apple's stock prices \n",
    "a = pd.read_csv(\"/datasets/AAPL.csv\")\n",
    "b = pd.read_csv(\"/datasets/data.csv\")\n",
    "\n",
    "\n",
    "# since data from CNBC and Kaggle dataset have different format for \"date\" (day-month-year:00:00 and day/month/year)\n",
    "# we change their format and standartize it\n",
    "a['date'] = pd.to_datetime(a['date'], dayfirst=True, utc = False).dt.tz_localize(None).dt.strftime(\"%Y-%m-%d\")\n",
    "b['date'] = pd.to_datetime(b['date'], dayfirst=True, utc = False).dt.tz_localize(None).dt.strftime(\"%Y-%m-%d\")\n",
    "\n",
    "\n",
    "# saving cvs files \n",
    "a.to_csv(\"/datasets/a.csv\")\n",
    "b.to_csv(\"/datasets/b.csv\")"
   ]
  },
  {
   "cell_type": "code",
   "execution_count": null,
   "id": "d868f3f1",
   "metadata": {},
   "outputs": [],
   "source": [
    "\n",
    "# merging 2 cvs files, saving only entries that share same \"date\" value so we have infomation about stock price and \n",
    "# news articles that were published that day regarfing the company\n",
    "merged_df = pd.merge(a, b, on='date')\n",
    "print(a.info(), b.info())\n",
    "\n",
    "# saving merged dataset as \"output.csv\"\n",
    "merged_df.to_csv(\"/datasets/output.csv\")"
   ]
  }
 ],
 "metadata": {
  "kernelspec": {
   "display_name": "Python 3 (ipykernel)",
   "language": "python",
   "name": "python3"
  },
  "language_info": {
   "codemirror_mode": {
    "name": "ipython",
    "version": 3
   },
   "file_extension": ".py",
   "mimetype": "text/x-python",
   "name": "python",
   "nbconvert_exporter": "python",
   "pygments_lexer": "ipython3",
   "version": "3.10.9"
  }
 },
 "nbformat": 4,
 "nbformat_minor": 5
}
