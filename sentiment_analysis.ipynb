{
 "cells": [
  {
   "cell_type": "code",
   "execution_count": null,
   "metadata": {
    "id": "wXl8hXodrrG0"
   },
   "outputs": [],
   "source": [
    "from transformers import AutoTokenizer, AutoModelForSequenceClassification\n",
    "import pandas as pd"
   ]
  },
  {
   "cell_type": "code",
   "execution_count": null,
   "metadata": {
    "collapsed": true,
    "id": "WmNm2B4zrkyM"
   },
   "outputs": [],
   "source": [
    "# download pretrained model and prepared word embedding\n",
    "tokenizer = AutoTokenizer.from_pretrained(\"ProsusAI/finbert\")\n",
    "model = AutoModelForSequenceClassification.from_pretrained(\"ProsusAI/finbert\")\n"
   ]
  },
  {
   "cell_type": "code",
   "execution_count": null,
   "metadata": {
    "id": "OcihjuKiroET"
   },
   "outputs": [],
   "source": [
    "def sentiment_score(inp):\n",
    "\n",
    "  # tokenize the article name\n",
    "  tokens = tokenizer.encode(inp,   return_tensors='pt')\n",
    "\n",
    "  # pass the tokens to model to get sentiment\n",
    "  output = model(tokens)\n",
    "\n",
    "  # pass model output logits through a softmax layer\n",
    "  sentim_scores = torch.nn.functional.softmax(output.logits, dim=-1)\n",
    "\n",
    "  # returning sum of values that are multiplied by coeficients: 1 for positive, -1 for neative and 0 for neutaral\n",
    "  # getting in the end following range: numbers closer to 1 means article is most likely positive, closer to -1 most likely negative and closer to 0 is neuteral\n",
    "  return  sentim_scores.detach().numpy()[0][0]*1+sentim_scores.detach().numpy()[0][1]*-1+sentim_scores.detach().numpy()[0][2]*0\n",
    "\n",
    "# creating 'sentiment' column in out csv file. Correlating values are output of sentiment_score function with 'Title' as input\n",
    "merged_df = pd.read_csv(\"/datasets/output.csv\")\n",
    "merged_df['sentiment'] = merged_df['Title'].apply(lambda x: sentiment_score(x[:150]))\n",
    "merged_df.to_csv(\"/datasets/output_sentiment.csv\")"
   ]
  }
 ],
 "metadata": {
  "colab": {
   "provenance": []
  },
  "kernelspec": {
   "display_name": "Python 3 (ipykernel)",
   "language": "python",
   "name": "python3"
  },
  "language_info": {
   "codemirror_mode": {
    "name": "ipython",
    "version": 3
   },
   "file_extension": ".py",
   "mimetype": "text/x-python",
   "name": "python",
   "nbconvert_exporter": "python",
   "pygments_lexer": "ipython3",
   "version": "3.10.9"
  }
 },
 "nbformat": 4,
 "nbformat_minor": 1
}
