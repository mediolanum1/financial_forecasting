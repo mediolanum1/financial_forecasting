{
 "cells": [
  {
   "cell_type": "code",
   "execution_count": null,
   "id": "e9fb52c3",
   "metadata": {},
   "outputs": [],
   "source": [
    "# import\n",
    "import pandas as pd\n",
    "import torch\n",
    "import tensorflow as tf\n"
   ]
  },
  {
   "cell_type": "code",
   "execution_count": null,
   "id": "72a438b4",
   "metadata": {},
   "outputs": [],
   "source": [
    "#create and compile model\n",
    "def create_model(in_shape,output_shape):\n",
    "    model= tf.keras.models.Sequential([\n",
    "        tf.keras.layers.LSTM(units = 50,return_sequences=True, input_shape=(in_shape[0],in_shape[1]),kernel_regularizer=tf.keras.regularizers.l1(l1=0.01)),\n",
    "        tf.keras.layers.Dropout(0.3),\n",
    "        tf.keras.layers.GRU(units=50, return_sequences=False, kernel_regularizer=tf.keras.regularizers.l2(l2=0.01)),\n",
    "        tf.keras.layers.Dense(output_shape)])\n",
    "\n",
    "    model.compile(optimizer='adam', loss='mean_squared_error')\n",
    "    model.summary()\n",
    "    return model\n",
    "\n",
    "#We are using the close price of the last 60 days to predict the next day's close (this one will be used for pure LSTM)\n",
    "#inp_sp=[60,1]\n",
    "\n",
    "#We take the closing price the volume and sentiment analysis of a newspaper on that day and predict the next day's closing price\n",
    "inp_sp=[3,1]\n",
    "out_sp=1\n",
    "model=create_model(inp_sp,out_sp)\n",
    "\n",
    "#save model\n",
    "model.save(\"predictor6\")"
   ]
  },
  {
   "cell_type": "code",
   "execution_count": null,
   "id": "77c889a0",
   "metadata": {},
   "outputs": [],
   "source": []
  }
 ],
 "metadata": {
  "kernelspec": {
   "display_name": "Python 3 (ipykernel)",
   "language": "python",
   "name": "python3"
  },
  "language_info": {
   "codemirror_mode": {
    "name": "ipython",
    "version": 3
   },
   "file_extension": ".py",
   "mimetype": "text/x-python",
   "name": "python",
   "nbconvert_exporter": "python",
   "pygments_lexer": "ipython3",
   "version": "3.10.9"
  }
 },
 "nbformat": 4,
 "nbformat_minor": 5
}
