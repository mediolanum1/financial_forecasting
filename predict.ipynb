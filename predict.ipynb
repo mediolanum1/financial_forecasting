{
 "cells": [
  {
   "cell_type": "code",
   "execution_count": null,
   "id": "2d1f72a4",
   "metadata": {},
   "outputs": [],
   "source": [
    "# import\n",
    "from datetime import datetime\n",
    "import requests\n",
    "import pandas as pd\n",
    "from transformers import AutoTokenizer, AutoModelForSequenceClassification\n",
    "import torch\n",
    "import csv\n",
    "import tensorflow as tf\n",
    "import random\n",
    "import matplotlib.pyplot as plt\n"
   ]
  },
  {
   "cell_type": "code",
   "execution_count": null,
   "id": "afbedc05",
   "metadata": {},
   "outputs": [],
   "source": [
    "model=tf.keras.models.load_model(\"predictor6\")\n",
    "\n",
    "test_sample=dataset[500:600]\n",
    "test_correct=correct_tmp[500:600]\n",
    "\n",
    "\n",
    "#if you want to have day by day prediction as oposed to 30 day prediction comment out previous part and uncomment this part\n",
    "dataset_len=100\n",
    "trainining=[]\n",
    "date=[]\n",
    "for i in range(dataset_len):\n",
    "    date.append(i)\n",
    "prediction=model.predict(test_sample)\n",
    "\n",
    "#plot the predicted prices compared to the actual prices\n",
    "plt.figure()\n",
    "plt.plot(date, prediction, label='predictions')\n",
    "plt.plot(date, test_correct, label='actual')\n",
    "plt.title('prediction vs actual')\n",
    "plt.xlabel('date')\n",
    "plt.ylabel('prices')\n",
    "plt.legend()\n",
    "plt.show()"
   ]
  },
  {
   "cell_type": "code",
   "execution_count": null,
   "id": "77fc7778",
   "metadata": {},
   "outputs": [],
   "source": [
    "#calculate how much money the model makes us on our test sample\n",
    "money=10000\n",
    "for i in range(1,len(prediction)):\n",
    "  #if we predict that the price will go up \"buy\"\n",
    "  estimated_gain=prediction[i][0] - test_correct[i-1]\n",
    "  if estimated_gain>0:\n",
    "    #calclate how much money that day made us\n",
    "    no_share=money/test_correct[i-1]\n",
    "    money=no_share*test_correct[i]\n",
    "\n",
    "#how much money we would have made if the model predicted perfectly\n",
    "money_ideal=10000\n",
    "for i in range(1,len(prediction)):\n",
    "  #if the stock goes up \"buy\"\n",
    "  estimated_gain=test_correct[i]-test_correct[i-1]\n",
    "  if estimated_gain>0:\n",
    "    #calculate how much we make\n",
    "    no_share=money_ideal/test_correct[i-1]\n",
    "    money_ideal=no_share*test_correct[i]\n",
    "\n",
    "print(\"how much we made:\"+money)\n",
    "print(\"max amount we could have made if the model predicted perfectly:\"+money_ideal)"
   ]
  }
 ],
 "metadata": {
  "kernelspec": {
   "display_name": "Python 3 (ipykernel)",
   "language": "python",
   "name": "python3"
  },
  "language_info": {
   "codemirror_mode": {
    "name": "ipython",
    "version": 3
   },
   "file_extension": ".py",
   "mimetype": "text/x-python",
   "name": "python",
   "nbconvert_exporter": "python",
   "pygments_lexer": "ipython3",
   "version": "3.10.9"
  }
 },
 "nbformat": 4,
 "nbformat_minor": 5
}
